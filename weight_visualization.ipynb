{
 "cells": [
  {
   "cell_type": "code",
   "execution_count": 1,
   "metadata": {},
   "outputs": [],
   "source": [
    "import torch"
   ]
  },
  {
   "cell_type": "code",
   "execution_count": 6,
   "metadata": {},
   "outputs": [],
   "source": [
    "# path = \"output/hypernerf2/broom/point_cloud/iteration_14000/deformation.pth\"\n",
    "# path = \"output/dnerf_tv/bouncingballs/point_cloud/iteration_20000/deformation.pth\"\n",
    "path = \"output/dynerf/cook_spinach/point_cloud/iteration_14000/deformation.pth\"\n",
    "# path = \"output/dynerf_emptyvoxel1/cut_roasted_beef/point_cloud/iteration_14000/deformation.pth\""
   ]
  },
  {
   "cell_type": "code",
   "execution_count": 13,
   "metadata": {},
   "outputs": [],
   "source": [
    "data = torch.load(path)"
   ]
  },
  {
   "cell_type": "code",
   "execution_count": 11,
   "metadata": {},
   "outputs": [
    {
     "name": "stdout",
     "output_type": "stream",
     "text": [
      "grid00 torch.Size([1, 16, 64, 64])\n",
      "grid01 torch.Size([1, 16, 64, 64])\n",
      "grid02 torch.Size([1, 16, 150, 64])\n",
      "grid03 torch.Size([1, 16, 64, 64])\n",
      "grid04 torch.Size([1, 16, 150, 64])\n",
      "grid05 torch.Size([1, 16, 150, 64])\n",
      "grid10 torch.Size([1, 16, 128, 128])\n",
      "grid11 torch.Size([1, 16, 128, 128])\n",
      "grid12 torch.Size([1, 16, 150, 128])\n",
      "grid13 torch.Size([1, 16, 128, 128])\n",
      "grid14 torch.Size([1, 16, 150, 128])\n",
      "grid15 torch.Size([1, 16, 150, 128])\n"
     ]
    },
    {
     "ename": "KeyError",
     "evalue": "'deformation_net.grid.grids.2.0'",
     "output_type": "error",
     "traceback": [
      "\u001b[0;31m---------------------------------------------------------------------------\u001b[0m",
      "\u001b[0;31mKeyError\u001b[0m                                  Traceback (most recent call last)",
      "Cell \u001b[0;32mIn[11], line 7\u001b[0m\n\u001b[1;32m      5\u001b[0m \u001b[38;5;28;01mfor\u001b[39;00m grid_id1 \u001b[38;5;129;01min\u001b[39;00m \u001b[38;5;28mrange\u001b[39m(\u001b[38;5;241m3\u001b[39m):\n\u001b[1;32m      6\u001b[0m     \u001b[38;5;28;01mfor\u001b[39;00m grid_id2 \u001b[38;5;129;01min\u001b[39;00m \u001b[38;5;28mrange\u001b[39m(\u001b[38;5;241m6\u001b[39m):\n\u001b[0;32m----> 7\u001b[0m         grid_value[\u001b[38;5;124mf\u001b[39m\u001b[38;5;124m\"\u001b[39m\u001b[38;5;124mgrid\u001b[39m\u001b[38;5;132;01m{\u001b[39;00mgrid_id1\u001b[38;5;132;01m}\u001b[39;00m\u001b[38;5;132;01m{\u001b[39;00mgrid_id2\u001b[38;5;132;01m}\u001b[39;00m\u001b[38;5;124m\"\u001b[39m] \u001b[38;5;241m=\u001b[39m \u001b[43mdata\u001b[49m\u001b[43m[\u001b[49m\u001b[38;5;124;43mf\u001b[39;49m\u001b[38;5;124;43m'\u001b[39;49m\u001b[38;5;124;43mdeformation_net.grid.grids.\u001b[39;49m\u001b[38;5;132;43;01m{\u001b[39;49;00m\u001b[43mgrid_id1\u001b[49m\u001b[38;5;132;43;01m}\u001b[39;49;00m\u001b[38;5;124;43m.\u001b[39;49m\u001b[38;5;132;43;01m{\u001b[39;49;00m\u001b[43mgrid_id2\u001b[49m\u001b[38;5;132;43;01m}\u001b[39;49;00m\u001b[38;5;124;43m'\u001b[39;49m\u001b[43m]\u001b[49m\n\u001b[1;32m      8\u001b[0m         \u001b[38;5;28mprint\u001b[39m(\u001b[38;5;124mf\u001b[39m\u001b[38;5;124m\"\u001b[39m\u001b[38;5;124mgrid\u001b[39m\u001b[38;5;132;01m{\u001b[39;00mgrid_id1\u001b[38;5;132;01m}\u001b[39;00m\u001b[38;5;132;01m{\u001b[39;00mgrid_id2\u001b[38;5;132;01m}\u001b[39;00m\u001b[38;5;124m\"\u001b[39m,data[\u001b[38;5;124mf\u001b[39m\u001b[38;5;124m'\u001b[39m\u001b[38;5;124mdeformation_net.grid.grids.\u001b[39m\u001b[38;5;132;01m{\u001b[39;00mgrid_id1\u001b[38;5;132;01m}\u001b[39;00m\u001b[38;5;124m.\u001b[39m\u001b[38;5;132;01m{\u001b[39;00mgrid_id2\u001b[38;5;132;01m}\u001b[39;00m\u001b[38;5;124m'\u001b[39m]\u001b[38;5;241m.\u001b[39mshape)\n\u001b[1;32m     11\u001b[0m \u001b[38;5;28;01mdef\u001b[39;00m \u001b[38;5;21mvisualize_tensor\u001b[39m(tensor):\n\u001b[1;32m     12\u001b[0m     \u001b[38;5;66;03m# 假设 batch size 为 1，移除 batch 维度\u001b[39;00m\n",
      "\u001b[0;31mKeyError\u001b[0m: 'deformation_net.grid.grids.2.0'"
     ]
    }
   ],
   "source": [
    "import torch\n",
    "import matplotlib.pyplot as plt\n",
    "import matplotlib.gridspec as gridspec\n",
    "grid_value = {}\n",
    "for grid_id1 in range(2):\n",
    "    for grid_id2 in range(6):\n",
    "        grid_value[f\"grid{grid_id1}{grid_id2}\"] = data[f'deformation_net.grid.grids.{grid_id1}.{grid_id2}']\n",
    "        print(f\"grid{grid_id1}{grid_id2}\",data[f'deformation_net.grid.grids.{grid_id1}.{grid_id2}'].shape)\n",
    "\n",
    "\n",
    "def visualize_tensor(tensor):\n",
    "    # 假设 batch size 为 1，移除 batch 维度\n",
    "    tensor = tensor.squeeze(0)\n",
    "\n",
    "    # 确保有 16 个通道\n",
    "    assert tensor.size(0) == 32\n",
    "\n",
    "    # 设置画布大小\n",
    "    plt.figure(figsize=(15, 15))\n",
    "\n",
    "    # 创建 4x4 的 GridSpec 网格\n",
    "    gs = gridspec.GridSpec(4, 4)\n",
    "\n",
    "    for i in range(tensor.size(0)):\n",
    "        # 为每个通道的图像创建子图\n",
    "        if i >=16:break\n",
    "        ax = plt.subplot(gs[i])\n",
    "        \n",
    "        # 显示图像\n",
    "        ax.imshow(tensor[i], cmap='twilight')\n",
    "        ax.axis('off')\n",
    "    \n",
    "    # 调整子图布局\n",
    "    plt.subplots_adjust(left=0.1, bottom=0.1, right=0.9, top=0.9, wspace=0, hspace=0)\n",
    "    plt.show()\n",
    "\n",
    "visualize_tensor(grid_value[f\"grid05\"].cpu())"
   ]
  },
  {
   "cell_type": "code",
   "execution_count": 15,
   "metadata": {},
   "outputs": [
    {
     "data": {
      "text/plain": [
       "odict_keys(['time_poc', 'pos_poc', 'rotation_scaling_poc', 'opacity_poc', 'timenet.0.weight', 'timenet.0.bias', 'timenet.2.weight', 'timenet.2.bias', 'deformation_net.grid.aabb', 'deformation_net.grid.grids.0.0', 'deformation_net.grid.grids.0.1', 'deformation_net.grid.grids.0.2', 'deformation_net.grid.grids.0.3', 'deformation_net.grid.grids.0.4', 'deformation_net.grid.grids.0.5', 'deformation_net.grid.grids.1.0', 'deformation_net.grid.grids.1.1', 'deformation_net.grid.grids.1.2', 'deformation_net.grid.grids.1.3', 'deformation_net.grid.grids.1.4', 'deformation_net.grid.grids.1.5', 'deformation_net.feature_out.0.weight', 'deformation_net.feature_out.0.bias', 'deformation_net.pos_deform.1.weight', 'deformation_net.pos_deform.1.bias', 'deformation_net.pos_deform.3.weight', 'deformation_net.pos_deform.3.bias', 'deformation_net.scales_deform.1.weight', 'deformation_net.scales_deform.1.bias', 'deformation_net.scales_deform.3.weight', 'deformation_net.scales_deform.3.bias', 'deformation_net.rotations_deform.1.weight', 'deformation_net.rotations_deform.1.bias', 'deformation_net.rotations_deform.3.weight', 'deformation_net.rotations_deform.3.bias', 'deformation_net.opacity_deform.1.weight', 'deformation_net.opacity_deform.1.bias', 'deformation_net.opacity_deform.3.weight', 'deformation_net.opacity_deform.3.bias', 'deformation_net.shs_deform.1.weight', 'deformation_net.shs_deform.1.bias', 'deformation_net.shs_deform.3.weight', 'deformation_net.shs_deform.3.bias'])"
      ]
     },
     "execution_count": 15,
     "metadata": {},
     "output_type": "execute_result"
    }
   ],
   "source": [
    "data.keys()"
   ]
  },
  {
   "cell_type": "code",
   "execution_count": 9,
   "metadata": {
    "scrolled": true
   },
   "outputs": [
    {
     "ename": "NameError",
     "evalue": "name 'visualize_tensor' is not defined",
     "output_type": "error",
     "traceback": [
      "\u001b[0;31m---------------------------------------------------------------------------\u001b[0m",
      "\u001b[0;31mNameError\u001b[0m                                 Traceback (most recent call last)",
      "Cell \u001b[0;32mIn[9], line 1\u001b[0m\n\u001b[0;32m----> 1\u001b[0m \u001b[43mvisualize_tensor\u001b[49m(grid_value[\u001b[38;5;124mf\u001b[39m\u001b[38;5;124m\"\u001b[39m\u001b[38;5;124mgrid00\u001b[39m\u001b[38;5;124m\"\u001b[39m]\u001b[38;5;241m.\u001b[39mcpu())\n",
      "\u001b[0;31mNameError\u001b[0m: name 'visualize_tensor' is not defined"
     ]
    }
   ],
   "source": [
    "visualize_tensor(grid_value[f\"grid00\"].cpu())"
   ]
  },
  {
   "cell_type": "code",
   "execution_count": null,
   "metadata": {},
   "outputs": [],
   "source": []
  }
 ],
 "metadata": {
  "kernelspec": {
   "display_name": "Python 3 (ipykernel)",
   "language": "python",
   "name": "python3"
  },
  "language_info": {
   "codemirror_mode": {
    "name": "ipython",
    "version": 3
   },
   "file_extension": ".py",
   "mimetype": "text/x-python",
   "name": "python",
   "nbconvert_exporter": "python",
   "pygments_lexer": "ipython3",
   "version": "3.8.19"
  }
 },
 "nbformat": 4,
 "nbformat_minor": 2
}
